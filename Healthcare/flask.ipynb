{
 "cells": [
  {
   "cell_type": "code",
   "execution_count": 16,
   "metadata": {},
   "outputs": [],
   "source": [
    "import random\n",
    "import re\n",
    "import secrets\n",
    "import pandas as pd\n",
    "import numpy as np\n",
    "from flask import Flask, render_template, flash, redirect, url_for, session, request, jsonify\n",
    "\n",
    "from sklearn.feature_extraction.text import CountVectorizer\n",
    "from sklearn.metrics.pairwise import cosine_similarity\n",
    "from joblib import load"
   ]
  },
  {
   "cell_type": "code",
   "execution_count": 5,
   "metadata": {},
   "outputs": [
    {
     "name": "stdout",
     "output_type": "stream",
     "text": [
      "Defaulting to user installation because normal site-packages is not writeable\n",
      "Collecting flask_sqlalchemy\n",
      "  Using cached flask_sqlalchemy-3.1.1-py3-none-any.whl.metadata (3.4 kB)\n",
      "Requirement already satisfied: flask>=2.2.5 in c:\\users\\sneha\\appdata\\roaming\\python\\python312\\site-packages (from flask_sqlalchemy) (3.0.3)\n",
      "Collecting sqlalchemy>=2.0.16 (from flask_sqlalchemy)\n",
      "  Downloading SQLAlchemy-2.0.36-cp312-cp312-win_amd64.whl.metadata (9.9 kB)\n",
      "Requirement already satisfied: Werkzeug>=3.0.0 in c:\\users\\sneha\\appdata\\roaming\\python\\python312\\site-packages (from flask>=2.2.5->flask_sqlalchemy) (3.0.4)\n",
      "Requirement already satisfied: Jinja2>=3.1.2 in c:\\users\\sneha\\appdata\\roaming\\python\\python312\\site-packages (from flask>=2.2.5->flask_sqlalchemy) (3.1.4)\n",
      "Requirement already satisfied: itsdangerous>=2.1.2 in c:\\users\\sneha\\appdata\\roaming\\python\\python312\\site-packages (from flask>=2.2.5->flask_sqlalchemy) (2.2.0)\n",
      "Requirement already satisfied: click>=8.1.3 in c:\\users\\sneha\\appdata\\roaming\\python\\python312\\site-packages (from flask>=2.2.5->flask_sqlalchemy) (8.1.7)\n",
      "Requirement already satisfied: blinker>=1.6.2 in c:\\users\\sneha\\appdata\\roaming\\python\\python312\\site-packages (from flask>=2.2.5->flask_sqlalchemy) (1.8.2)\n",
      "Requirement already satisfied: typing-extensions>=4.6.0 in c:\\users\\sneha\\appdata\\roaming\\python\\python312\\site-packages (from sqlalchemy>=2.0.16->flask_sqlalchemy) (4.12.2)\n",
      "Collecting greenlet!=0.4.17 (from sqlalchemy>=2.0.16->flask_sqlalchemy)\n",
      "  Downloading greenlet-3.1.1-cp312-cp312-win_amd64.whl.metadata (3.9 kB)\n",
      "Requirement already satisfied: colorama in c:\\users\\sneha\\appdata\\roaming\\python\\python312\\site-packages (from click>=8.1.3->flask>=2.2.5->flask_sqlalchemy) (0.4.6)\n",
      "Requirement already satisfied: MarkupSafe>=2.0 in c:\\users\\sneha\\appdata\\roaming\\python\\python312\\site-packages (from Jinja2>=3.1.2->flask>=2.2.5->flask_sqlalchemy) (2.1.5)\n",
      "Downloading flask_sqlalchemy-3.1.1-py3-none-any.whl (25 kB)\n",
      "Downloading SQLAlchemy-2.0.36-cp312-cp312-win_amd64.whl (2.1 MB)\n",
      "   ---------------------------------------- 0.0/2.1 MB ? eta -:--:--\n",
      "    --------------------------------------- 0.0/2.1 MB 660.6 kB/s eta 0:00:04\n",
      "   -- ------------------------------------- 0.1/2.1 MB 1.8 MB/s eta 0:00:02\n",
      "   ------ --------------------------------- 0.3/2.1 MB 3.0 MB/s eta 0:00:01\n",
      "   ------------- -------------------------- 0.7/2.1 MB 4.3 MB/s eta 0:00:01\n",
      "   ------------------- -------------------- 1.0/2.1 MB 4.8 MB/s eta 0:00:01\n",
      "   ------------------------- -------------- 1.4/2.1 MB 5.4 MB/s eta 0:00:01\n",
      "   --------------------------------- ------ 1.7/2.1 MB 5.8 MB/s eta 0:00:01\n",
      "   ---------------------------------------  2.1/2.1 MB 6.3 MB/s eta 0:00:01\n",
      "   ---------------------------------------- 2.1/2.1 MB 5.8 MB/s eta 0:00:00\n",
      "Downloading greenlet-3.1.1-cp312-cp312-win_amd64.whl (299 kB)\n",
      "   ---------------------------------------- 0.0/299.7 kB ? eta -:--:--\n",
      "   ---------------------------------------  297.0/299.7 kB 9.2 MB/s eta 0:00:01\n",
      "   ---------------------------------------- 299.7/299.7 kB 6.2 MB/s eta 0:00:00\n",
      "Installing collected packages: greenlet, sqlalchemy, flask_sqlalchemy\n",
      "Successfully installed flask_sqlalchemy-3.1.1 greenlet-3.1.1 sqlalchemy-2.0.36\n",
      "Note: you may need to restart the kernel to use updated packages.\n"
     ]
    },
    {
     "name": "stderr",
     "output_type": "stream",
     "text": [
      "\n",
      "[notice] A new release of pip is available: 24.0 -> 24.3.1\n",
      "[notice] To update, run: python.exe -m pip install --upgrade pip\n"
     ]
    }
   ],
   "source": [
    "pip install flask_sqlalchemy\n"
   ]
  },
  {
   "cell_type": "code",
   "execution_count": 17,
   "metadata": {},
   "outputs": [],
   "source": [
    "from flask_sqlalchemy import SQLAlchemy\n"
   ]
  },
  {
   "cell_type": "code",
   "execution_count": 18,
   "metadata": {},
   "outputs": [],
   "source": [
    "app = Flask(__name__)\n",
    "app.config['SQLALCHEMY_DATABASE_URI'] = 'sqlite:///database.db'\n",
    "app.secret_key = \"m4xpl0it\"\n",
    "db = SQLAlchemy(app)"
   ]
  },
  {
   "cell_type": "code",
   "execution_count": 19,
   "metadata": {},
   "outputs": [],
   "source": [
    "class User(db.Model):\n",
    "    id = db.Column(db.Integer, primary_key=True)\n",
    "    username = db.Column(db.String(80), unique=True, nullable=False)\n",
    "    email = db.Column(db.String(120), unique=True, nullable=False)\n",
    "    password = db.Column(db.String(80), nullable=False)\n"
   ]
  },
  {
   "cell_type": "code",
   "execution_count": 20,
   "metadata": {},
   "outputs": [],
   "source": [
    "# Helper Functions\n",
    "def make_token():\n",
    "    \"\"\"Creates a cryptographically-secure, URL-safe string\"\"\"\n",
    "    return secrets.token_urlsafe(16)\n"
   ]
  },
  {
   "cell_type": "code",
   "execution_count": 21,
   "metadata": {},
   "outputs": [],
   "source": [
    "# Routes\n",
    "@app.route(\"/\")\n",
    "def index():\n",
    "    return render_template(\"index.html\") \n",
    "\n",
    "    "
   ]
  },
  {
   "cell_type": "code",
   "execution_count": 24,
   "metadata": {},
   "outputs": [],
   "source": [
    "@app.route(\"/login\", methods=[\"GET\", \"POST\"])\n",
    "\n",
    "def login():\n",
    "    if request.method == \"POST\":\n",
    "        uname = request.form.get(\"uname\")\n",
    "        passw = request.form.get(\"passw\")\n",
    "        user = User.query.filter_by(username=uname, password=passw).first()\n",
    "        if user:\n",
    "            session['user_id'] = user.id\n",
    "            return redirect(url_for(\"index_auth\"))\n",
    "        else:\n",
    "            flash(\"Invalid username or password\")\n",
    "    return render_template(\"login.html\")\n",
    "\n"
   ]
  },
  {
   "cell_type": "code",
   "execution_count": 25,
   "metadata": {},
   "outputs": [],
   "source": [
    "@app.route(\"/register\", methods=[\"GET\", \"POST\"])\n",
    "def register():\n",
    "    if request.method == \"POST\":\n",
    "        uname = request.form['uname']\n",
    "        mail = request.form['mail']\n",
    "        passw = request.form['passw']\n",
    "        new_user = User(username=uname, email=mail, password=passw)\n",
    "        db.session.add(new_user)\n",
    "        db.session.commit()\n",
    "        return redirect(url_for(\"login\"))\n",
    "    return render_template(\"register.html\")"
   ]
  },
  {
   "cell_type": "code",
   "execution_count": 26,
   "metadata": {},
   "outputs": [],
   "source": [
    "def predict_disease_from_symptom(symptom_list):\n",
    "    try:\n",
    "        # Load pre-trained model\n",
    "        clf = load(\"path/to/random_forest.joblib\")\n",
    "        symptoms = {s: 0 for s in symptom_list}\n",
    "        \n",
    "        # Set symptoms based on input\n",
    "        for symptom in symptom_list:\n",
    "            if symptom in symptoms:\n",
    "                symptoms[symptom] = 1\n",
    "        \n",
    "        # Create DataFrame for model prediction\n",
    "        df_test = pd.DataFrame([symptoms])\n",
    "        result = clf.predict(df_test)[0]\n",
    "        return f\"Disease: {result}\"\n",
    "    except Exception as e:\n",
    "        print(f\"Prediction error: {e}\")\n",
    "        return \"Prediction failed. Please try again.\""
   ]
  },
  {
   "cell_type": "code",
   "execution_count": null,
   "metadata": {},
   "outputs": [],
   "source": [
    "# Disease Prediction Function\n",
    "\n",
    "\n",
    "# Chat Message Route\n",
    "@app.route('/ask', methods=['GET', 'POST'])\n",
    "def chat_msg():\n",
    "    user_message = request.args.get(\"message\", \"\").lower()\n",
    "    session_id = request.args.get(\"sessionId\")"
   ]
  },
  {
   "cell_type": "code",
   "execution_count": null,
   "metadata": {},
   "outputs": [],
   "source": [
    "if user_message == \"undefined\":\n",
    "        response = [\"Welcome! Please enter your name to start.\"]\n",
    "else:\n",
    "        response = handle_chatbot_response(user_message, session_id)\n",
    "\n",
    "    return jsonify({'status': 'OK', 'answer': response})\n",
    "\n"
   ]
  },
  {
   "cell_type": "code",
   "execution_count": null,
   "metadata": {},
   "outputs": [],
   "source": [
    "\n",
    " # Chatbot Logic   \n",
    "# Running the Flask app\n",
    "if __name__ == \"__main__\":\n",
    "    db.create_all()\n",
    "    app.run(debug=True)\n"
   ]
  }
 ],
 "metadata": {
  "kernelspec": {
   "display_name": "Python 3",
   "language": "python",
   "name": "python3"
  },
  "language_info": {
   "codemirror_mode": {
    "name": "ipython",
    "version": 3
   },
   "file_extension": ".py",
   "mimetype": "text/x-python",
   "name": "python",
   "nbconvert_exporter": "python",
   "pygments_lexer": "ipython3",
   "version": "3.12.2"
  }
 },
 "nbformat": 4,
 "nbformat_minor": 2
}
